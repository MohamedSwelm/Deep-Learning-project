{
 "cells": [
  {
   "cell_type": "code",
   "execution_count": 1,
   "id": "19433534",
   "metadata": {},
   "outputs": [],
   "source": [
    "import cv2 as cv"
   ]
  },
  {
   "cell_type": "code",
   "execution_count": 14,
   "id": "d427239c",
   "metadata": {},
   "outputs": [],
   "source": [
    "haar_cascade = cv.CascadeClassifier('haar_face.xml')\n",
    "capture = cv.VideoCapture(0)\n",
    "couner=0\n",
    "while True :\n",
    "    istrue , img = capture.read()\n",
    "    if istrue:\n",
    "        faces_rect=haar_cascade.detectMultiScale(img,scaleFactor=1.2,minNeighbors=1)\n",
    "        for(x,y,w,h) in faces_rect:\n",
    "            cv.rectangle(img,(x,y),(x+w,y+h),(0,255,0),thickness=2)\n",
    "        cv.imshow('myvideo',img)\n",
    "        if cv.waitKey(20)& 0xFF==ord('x'):\n",
    "            break\n",
    "    else:\n",
    "        break\n",
    "capture.release()\n",
    "cv.destroyAllWindows()\n",
    "        "
   ]
  },
  {
   "cell_type": "code",
   "execution_count": null,
   "id": "638a2387",
   "metadata": {},
   "outputs": [],
   "source": []
  }
 ],
 "metadata": {
  "kernelspec": {
   "display_name": "Python 3 (ipykernel)",
   "language": "python",
   "name": "python3"
  },
  "language_info": {
   "codemirror_mode": {
    "name": "ipython",
    "version": 3
   },
   "file_extension": ".py",
   "mimetype": "text/x-python",
   "name": "python",
   "nbconvert_exporter": "python",
   "pygments_lexer": "ipython3",
   "version": "3.9.7"
  }
 },
 "nbformat": 4,
 "nbformat_minor": 5
}
