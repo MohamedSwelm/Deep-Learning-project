{
 "cells": [
  {
   "cell_type": "markdown",
   "id": "2da0d34e",
   "metadata": {},
   "source": [
    "## Project Describtion : Get data from instgram with selenium\n",
    "\n",
    "#### Note : Scrap from fake account "
   ]
  },
  {
   "cell_type": "markdown",
   "id": "1169e4ea",
   "metadata": {},
   "source": [
    "### Import Necessaries Libraries"
   ]
  },
  {
   "cell_type": "code",
   "execution_count": null,
   "id": "f36b432f",
   "metadata": {},
   "outputs": [],
   "source": [
    "from selenium import webdriver\n",
    "from webdriver_manager.chrome import ChromeDriverManager\n",
    "from selenium.webdriver.common.keys import Keys\n",
    "from selenium.webdriver.support import expected_conditions as EC\n",
    "from selenium.webdriver.common.by import By\n",
    "from selenium.webdriver.support.wait import WebDriverWait\n",
    "import os\n",
    "import wget\n",
    "import time"
   ]
  },
  {
   "cell_type": "code",
   "execution_count": null,
   "id": "c7b0f4d0",
   "metadata": {},
   "outputs": [],
   "source": [
    "driver = webdriver.Chrome(ChromeDriverManager().install())\n",
    "url = ('https://www.instagram.com/')\n",
    "driver.get(url)"
   ]
  },
  {
   "cell_type": "code",
   "execution_count": null,
   "id": "71b36342",
   "metadata": {},
   "outputs": [],
   "source": [
    "\n",
    "\n",
    "username = WebDriverWait(driver , 10 ).until(EC.element_to_be_clickable((By.CSS_SELECTOR , \"input[name = 'username']\")))\n",
    "password = WebDriverWait(driver , 10 ).until(EC.element_to_be_clickable((By.CSS_SELECTOR , \"input[name = 'password']\")))\n",
    "\n",
    "\n",
    "username.send_keys(\"mohammedswelm19@gmail.com\")                            \n",
    "password.send_keys(\"112233445566778899@\")\n",
    "\n",
    "button = WebDriverWait(driver , 2 ).until(EC.element_to_be_clickable((By.CSS_SELECTOR , \"button[type = 'submit']\"))).click()\n",
    "\n",
    "not_now = WebDriverWait(driver , 10 ).until(EC.element_to_be_clickable((By.XPATH , '//button[contains(text() , \"Not Now\")]'))).click()\n"
   ]
  },
  {
   "cell_type": "code",
   "execution_count": null,
   "id": "f78db14b",
   "metadata": {},
   "outputs": [],
   "source": [
    "import time\n",
    "\n",
    "searchbox = WebDriverWait(driver , 2 ).until(EC.element_to_be_clickable((By.XPATH ,\"//input[@placeholder='Search']\")))\n",
    "searchbox.clear()\n",
    "\n",
    "keyword = \"elephantsofworld\"\n",
    "searchbox.send_keys(keyword)\n",
    "\n",
    "time.sleep(5)\n",
    "searchbox.send_keys(Keys.ENTER)\n",
    "searchbox.send_keys(Keys.ENTER)\n",
    "time.sleep(5)"
   ]
  },
  {
   "cell_type": "code",
   "execution_count": null,
   "id": "0d38b6ba",
   "metadata": {},
   "outputs": [],
   "source": [
    "driver.execute_script(\"window.scrollTo(0 ,document.body.scrollHeight);\")\n",
    "time.sleep(10)\n",
    "images = driver.find_elements(By.TAG_NAME, \"img\")\n",
    "images = [image.get_attribute('src') for image in images]\n",
    "print(len(images))"
   ]
  },
  {
   "cell_type": "code",
   "execution_count": null,
   "id": "2982deec",
   "metadata": {},
   "outputs": [],
   "source": [
    "import os\n",
    "import wget\n",
    "path = os.getcwd()\n",
    "path = os.path.join(path, keyword)\n",
    "\n",
    "#create the directory\n",
    "os.mkdir(path)\n",
    "\n",
    "path"
   ]
  },
  {
   "cell_type": "code",
   "execution_count": null,
   "id": "e5c15b34",
   "metadata": {},
   "outputs": [],
   "source": [
    "counter = 0\n",
    "import wget\n",
    "for image in images:\n",
    "    save_as = os.path.join(path, keyword + str(counter) + '.jpg')\n",
    "    #wget.download(image, save_as)\n",
    "    wget.download(image , save_as)\n",
    "    counter += 1"
   ]
  },
  {
   "cell_type": "code",
   "execution_count": null,
   "id": "74da0eef",
   "metadata": {},
   "outputs": [],
   "source": []
  },
  {
   "cell_type": "code",
   "execution_count": null,
   "id": "ed8fdd48",
   "metadata": {},
   "outputs": [],
   "source": []
  }
 ],
 "metadata": {
  "kernelspec": {
   "display_name": "Python 3 (ipykernel)",
   "language": "python",
   "name": "python3"
  },
  "language_info": {
   "codemirror_mode": {
    "name": "ipython",
    "version": 3
   },
   "file_extension": ".py",
   "mimetype": "text/x-python",
   "name": "python",
   "nbconvert_exporter": "python",
   "pygments_lexer": "ipython3",
   "version": "3.9.7"
  }
 },
 "nbformat": 4,
 "nbformat_minor": 5
}
